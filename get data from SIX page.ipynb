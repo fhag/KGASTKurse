{
 "cells": [
  {
   "cell_type": "markdown",
   "metadata": {},
   "source": [
    "### get csv from SIX page"
   ]
  },
  {
   "cell_type": "code",
   "execution_count": 125,
   "metadata": {
    "collapsed": false
   },
   "outputs": [],
   "source": [
    "import urllib.request\n",
    "\n",
    "import time\n",
    "import requests\n",
    "from urllib.parse import urlencode\n",
    "from pprint import pprint\n",
    "\n",
    "getcsvlink = 'https://www.six-swiss-exchange.com/indices/info_market_data_download.csv'"
   ]
  },
  {
   "cell_type": "code",
   "execution_count": 41,
   "metadata": {
    "collapsed": true
   },
   "outputs": [],
   "source": [
    "# historische Werte des SPI TR\n",
    "data = {'id' : 'CH0009987501CHF9', 'domain' : '107', 'actionSUBMIT.x' : '9', 'actionSUBMIT.y' : '6'}\n",
    "# Intraday Werte des SPI TR\n",
    "data = {'id' : 'CH0009987501CHF9', 'domain' : '0', 'actionSUBMIT.x' : '8', 'actionSUBMIT.y' : '6'}"
   ]
  },
  {
   "cell_type": "code",
   "execution_count": 43,
   "metadata": {
    "collapsed": true
   },
   "outputs": [],
   "source": []
  },
  {
   "cell_type": "code",
   "execution_count": 39,
   "metadata": {
    "collapsed": true
   },
   "outputs": [],
   "source": [
    "# UBS ETF hist Kurse\n",
    "data = {'id' : 'CH0131872431CHF4', 'domain' : '107', 'actionSUBMIT.x' : '5', 'actionSUBMIT.y' : '4'}\n",
    "# UBS ETF intraday\n",
    "data = {'id' : 'CH0131872431CHF4', 'domain' : '0', 'actionSUBMIT.x' : '10', 'actionSUBMIT.y' : '11'}\n",
    "data = {'id' : 'CH0131872431CHF4', 'domain' : '107', 'actionSUBMIT.x' : '7', 'actionSUBMIT.y' : '9'}"
   ]
  },
  {
   "cell_type": "code",
   "execution_count": 42,
   "metadata": {
    "collapsed": false
   },
   "outputs": [
    {
     "name": "stdout",
     "output_type": "stream",
     "text": [
      "https://www.six-swiss-exchange.com/indices/info_market_data_download.csv\n"
     ]
    }
   ],
   "source": [
    "fname = 'SIXcsv/SIX'+time.strftime('%Y-%m-%d--%H%M%S')+'.csv'\n",
    "req = requests.post(getcsvlink, data)\n",
    "\n",
    "with open(fname, 'wb') as file:\n",
    "    file.write(req.content)\n",
    "    print(req.url)"
   ]
  },
  {
   "cell_type": "code",
   "execution_count": 48,
   "metadata": {
    "collapsed": false
   },
   "outputs": [],
   "source": [
    "# html code to show intraday prices\n",
    "\n",
    "url ='https://www.six-swiss-exchange.com/funds/info_market_data_ticks_de.html?domain=0&id=CH0131872431CHF4&dojo.preventCache=1476736687306'\n",
    "\n",
    "# get first link for today's xls\n",
    "with request.urlopen(url) as response:\n",
    "   urlcontent = response.read()"
   ]
  },
  {
   "cell_type": "code",
   "execution_count": 114,
   "metadata": {
    "collapsed": true
   },
   "outputs": [],
   "source": [
    "url = 'https://www.six-swiss-exchange.com/funds/info_market_data_download.csv'\n",
    "\n",
    "# historische Preise\n",
    "data = {'id' : 'CH0131872431CHF4', 'domain' : '107', 'actionSUBMIT.x' : '7', 'actionSUBMIT.y' : '8'}\n",
    "# intraday Preise\n",
    "data = {'id' : 'CH0131872431CHF4', 'domain' : '0', 'actionSUBMIT.x' : '7', 'actionSUBMIT.y' : '8'}"
   ]
  },
  {
   "cell_type": "code",
   "execution_count": 115,
   "metadata": {
    "collapsed": true
   },
   "outputs": [],
   "source": [
    "data = urlencode(data)\n",
    "data = data.encode('utf-8')"
   ]
  },
  {
   "cell_type": "code",
   "execution_count": 117,
   "metadata": {
    "collapsed": false
   },
   "outputs": [],
   "source": [
    "req = request.Request(url, data)"
   ]
  },
  {
   "cell_type": "code",
   "execution_count": 126,
   "metadata": {
    "collapsed": false
   },
   "outputs": [],
   "source": [
    "with urllib.request.urlopen(req) as response:\n",
    "    page = response.read()"
   ]
  },
  {
   "cell_type": "code",
   "execution_count": 133,
   "metadata": {
    "collapsed": false
   },
   "outputs": [],
   "source": [
    "fname = 'SIXcsv/SIX'+time.strftime('%Y-%m-%d--%H%M%S')+'.csv'\n",
    "temp = urllib.request.urlretrieve(url, filename=fname, data=data)"
   ]
  },
  {
   "cell_type": "code",
   "execution_count": 127,
   "metadata": {
    "collapsed": false
   },
   "outputs": [
    {
     "name": "stdout",
     "output_type": "stream",
     "text": [
      "UBS ETF SPI (CHF) A (SPICHA/CH0131872431)\n",
      "          17.10.2016;\n",
      "          Time;Price;Volume;\n",
      "          17:28:27;52.42;1130;\n",
      "            17:17:07;52.5;60;\n",
      "            15:32:47;52.54;450;\n",
      "            15:31:58;52.63;500;\n",
      "            15:18:23;52.61;975;\n",
      "            14:59:27;52.62;200;\n",
      "            13:42:41;52.68;299;\n",
      "            12:35:06;52.63;744;\n",
      "            12:24:21;52.57;1043;\n",
      "            12:18:54;52.56;160;\n",
      "            11:44:23;52.56;362;\n",
      "            11:44:14;52.41;331;\n",
      "            11:13:13;52.45;25;\n",
      "            10:25:48;52.7;4000;\n",
      "            09:10:07;52.84;2830;\n",
      "            09:01:47;52.66;197;\n",
      "            \n"
     ]
    }
   ],
   "source": [
    "print(page.decode('latin'))"
   ]
  },
  {
   "cell_type": "code",
   "execution_count": 120,
   "metadata": {
    "collapsed": false
   },
   "outputs": [
    {
     "data": {
      "text/plain": [
       "['__IOBase_closed',\n",
       " '__abstractmethods__',\n",
       " '__class__',\n",
       " '__del__',\n",
       " '__delattr__',\n",
       " '__dict__',\n",
       " '__dir__',\n",
       " '__doc__',\n",
       " '__enter__',\n",
       " '__eq__',\n",
       " '__exit__',\n",
       " '__format__',\n",
       " '__ge__',\n",
       " '__getattribute__',\n",
       " '__gt__',\n",
       " '__hash__',\n",
       " '__init__',\n",
       " '__iter__',\n",
       " '__le__',\n",
       " '__lt__',\n",
       " '__module__',\n",
       " '__ne__',\n",
       " '__new__',\n",
       " '__next__',\n",
       " '__reduce__',\n",
       " '__reduce_ex__',\n",
       " '__repr__',\n",
       " '__setattr__',\n",
       " '__sizeof__',\n",
       " '__str__',\n",
       " '__subclasshook__',\n",
       " '_abc_cache',\n",
       " '_abc_negative_cache',\n",
       " '_abc_negative_cache_version',\n",
       " '_abc_registry',\n",
       " '_checkClosed',\n",
       " '_checkReadable',\n",
       " '_checkSeekable',\n",
       " '_checkWritable',\n",
       " '_check_close',\n",
       " '_close_conn',\n",
       " '_get_chunk_left',\n",
       " '_method',\n",
       " '_peek_chunked',\n",
       " '_read1_chunked',\n",
       " '_read_and_discard_trailer',\n",
       " '_read_next_chunk_size',\n",
       " '_read_status',\n",
       " '_readall_chunked',\n",
       " '_readinto_chunked',\n",
       " '_safe_read',\n",
       " '_safe_readinto',\n",
       " 'begin',\n",
       " 'chunk_left',\n",
       " 'chunked',\n",
       " 'close',\n",
       " 'closed',\n",
       " 'code',\n",
       " 'debuglevel',\n",
       " 'detach',\n",
       " 'fileno',\n",
       " 'flush',\n",
       " 'fp',\n",
       " 'getcode',\n",
       " 'getheader',\n",
       " 'getheaders',\n",
       " 'geturl',\n",
       " 'headers',\n",
       " 'info',\n",
       " 'isatty',\n",
       " 'isclosed',\n",
       " 'length',\n",
       " 'msg',\n",
       " 'peek',\n",
       " 'read',\n",
       " 'read1',\n",
       " 'readable',\n",
       " 'readinto',\n",
       " 'readinto1',\n",
       " 'readline',\n",
       " 'readlines',\n",
       " 'reason',\n",
       " 'seek',\n",
       " 'seekable',\n",
       " 'status',\n",
       " 'tell',\n",
       " 'truncate',\n",
       " 'url',\n",
       " 'version',\n",
       " 'will_close',\n",
       " 'writable',\n",
       " 'write',\n",
       " 'writelines']"
      ]
     },
     "execution_count": 120,
     "metadata": {},
     "output_type": "execute_result"
    }
   ],
   "source": [
    "dir(response)"
   ]
  },
  {
   "cell_type": "code",
   "execution_count": 124,
   "metadata": {
    "collapsed": false
   },
   "outputs": [
    {
     "name": "stdout",
     "output_type": "stream",
     "text": [
      "Help on built-in function readinto1:\n",
      "\n",
      "readinto1(buffer, /) method of http.client.HTTPResponse instance\n",
      "\n"
     ]
    }
   ],
   "source": [
    "help(response.readinto1)"
   ]
  },
  {
   "cell_type": "code",
   "execution_count": null,
   "metadata": {
    "collapsed": true
   },
   "outputs": [],
   "source": []
  }
 ],
 "metadata": {
  "anaconda-cloud": {},
  "kernelspec": {
   "display_name": "Python [default]",
   "language": "python",
   "name": "python3"
  },
  "language_info": {
   "codemirror_mode": {
    "name": "ipython",
    "version": 3
   },
   "file_extension": ".py",
   "mimetype": "text/x-python",
   "name": "python",
   "nbconvert_exporter": "python",
   "pygments_lexer": "ipython3",
   "version": "3.5.2"
  }
 },
 "nbformat": 4,
 "nbformat_minor": 1
}
