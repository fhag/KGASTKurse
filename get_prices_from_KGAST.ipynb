{
 "cells": [
  {
   "cell_type": "markdown",
   "metadata": {},
   "source": [
    "### get daily xls from KGAST site - needs to be run every day"
   ]
  },
  {
   "cell_type": "code",
   "execution_count": 1,
   "metadata": {
    "collapsed": false
   },
   "outputs": [
    {
     "name": "stdout",
     "output_type": "stream",
     "text": [
      "Content-Type: application/vnd.ms-excel\n",
      "Last-Modified: Tue, 18 Oct 2016 04:39:44 GMT\n",
      "Accept-Ranges: bytes\n",
      "ETag: W/\"0e09a6f928d21:0\"\n",
      "Server: Microsoft-IIS/7.5\n",
      "X-Powered-By: ASP.NET\n",
      "X-UA-Compatible: IE=Edge\n",
      "Date: Tue, 18 Oct 2016 04:39:44 GMT\n",
      "Connection: close\n",
      "Content-Length: 113152\n",
      "\n",
      " KGASTxls/KGAST2016-10-18--063946.xls\n"
     ]
    }
   ],
   "source": [
    "import urllib.request as request\n",
    "import time\n",
    "\n",
    "getxls = 'http://www.kgast.ch/dynasite.cfm?cmd=cprodukt_produkt_excel_export&skipfurl=1'\n",
    "\n",
    "# get first link for today's xls\n",
    "with request.urlopen(getxls) as response:\n",
    "   getxlslink = response.read().decode()\n",
    "\n",
    "#create filename\n",
    "fname = 'KGASTxls/KGAST'+time.strftime('%Y-%m-%d--%H%M%S')+'.xls'\n",
    "\n",
    "# save today's xls as fname\n",
    "fname, headers = request.urlretrieve(getxlslink, filename=fname)\n",
    "# show result and filename\n",
    "print(headers, fname)"
   ]
  },
  {
   "cell_type": "code",
   "execution_count": null,
   "metadata": {
    "collapsed": true
   },
   "outputs": [],
   "source": []
  }
 ],
 "metadata": {
  "anaconda-cloud": {},
  "kernelspec": {
   "display_name": "Python 3",
   "language": "python",
   "name": "python3"
  },
  "language_info": {
   "codemirror_mode": {
    "name": "ipython",
    "version": 3
   },
   "file_extension": ".py",
   "mimetype": "text/x-python",
   "name": "python",
   "nbconvert_exporter": "python",
   "pygments_lexer": "ipython3",
   "version": "3.5.1"
  }
 },
 "nbformat": 4,
 "nbformat_minor": 0
}
