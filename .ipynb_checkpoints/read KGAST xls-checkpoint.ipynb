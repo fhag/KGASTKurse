{
 "cells": [
  {
   "cell_type": "markdown",
   "metadata": {},
   "source": [
    "### read daily xls into pandas"
   ]
  },
  {
   "cell_type": "code",
   "execution_count": 119,
   "metadata": {
    "collapsed": true
   },
   "outputs": [],
   "source": [
    "from pandas import DataFrame, ExcelFile, concat\n",
    "import os"
   ]
  },
  {
   "cell_type": "code",
   "execution_count": 120,
   "metadata": {
    "collapsed": false
   },
   "outputs": [],
   "source": [
    "# create list of all available files\n",
    "xlss = ['KGASTxls/'+i for i in os.listdir('KGASTxls') if i[:5] == 'KGAST']\n",
    "\n",
    "# read all available downloaded files\n",
    "xls_list = []\n",
    "for xls in xlss:\n",
    "    df = ExcelFile(xls)\n",
    "    xls_list.append(df.parse()[['MITGLIEDER', 'KURZ', 'VALOR', 'ANLAGEGRUPPE',\n",
    "                      'AUSGABEPREIS', 'RUECKNAHMEPREIS', 'AUFGEL_ERTRAG',\n",
    "                      'ABSCHLUSSTAG', 'VALUTA', 'AENDERUNGSDAT']])\n"
   ]
  },
  {
   "cell_type": "code",
   "execution_count": 121,
   "metadata": {
    "collapsed": false
   },
   "outputs": [],
   "source": [
    "# create DataFrame and drop duplicates\n",
    "kurse = concat(xls_list).drop_duplicates()"
   ]
  },
  {
   "cell_type": "code",
   "execution_count": 122,
   "metadata": {
    "collapsed": false
   },
   "outputs": [
    {
     "name": "stdout",
     "output_type": "stream",
     "text": [
      "<class 'pandas.core.frame.DataFrame'>\n",
      "Int64Index: 484 entries, 0 to 441\n",
      "Data columns (total 10 columns):\n",
      "MITGLIEDER         484 non-null object\n",
      "KURZ               484 non-null object\n",
      "VALOR              484 non-null object\n",
      "ANLAGEGRUPPE       484 non-null object\n",
      "AUSGABEPREIS       476 non-null object\n",
      "RUECKNAHMEPREIS    475 non-null object\n",
      "AUFGEL_ERTRAG      475 non-null object\n",
      "ABSCHLUSSTAG       480 non-null object\n",
      "VALUTA             434 non-null object\n",
      "AENDERUNGSDAT      476 non-null object\n",
      "dtypes: object(10)\n",
      "memory usage: 41.6+ KB\n"
     ]
    }
   ],
   "source": [
    "kurse.info()"
   ]
  },
  {
   "cell_type": "code",
   "execution_count": null,
   "metadata": {
    "collapsed": true
   },
   "outputs": [],
   "source": []
  }
 ],
 "metadata": {
  "anaconda-cloud": {},
  "kernelspec": {
   "display_name": "Python [default]",
   "language": "python",
   "name": "python3"
  },
  "language_info": {
   "codemirror_mode": {
    "name": "ipython",
    "version": 3
   },
   "file_extension": ".py",
   "mimetype": "text/x-python",
   "name": "python",
   "nbconvert_exporter": "python",
   "pygments_lexer": "ipython3",
   "version": "3.5.2"
  }
 },
 "nbformat": 4,
 "nbformat_minor": 0
}
