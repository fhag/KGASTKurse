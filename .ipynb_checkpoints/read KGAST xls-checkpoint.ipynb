{
 "cells": [
  {
   "cell_type": "markdown",
   "metadata": {},
   "source": [
    "### read daily xls into pandas"
   ]
  },
  {
   "cell_type": "code",
   "execution_count": 1,
   "metadata": {
    "collapsed": true
   },
   "outputs": [],
   "source": [
    "from pandas import DataFrame, ExcelFile, concat\n",
    "import os\n",
    "from datetime import datetime\n",
    "%matplotlib inline"
   ]
  },
  {
   "cell_type": "code",
   "execution_count": 2,
   "metadata": {
    "collapsed": false
   },
   "outputs": [
    {
     "name": "stdout",
     "output_type": "stream",
     "text": [
      "Erfolg mit:  C:/Users/Gérard/Dropbox/KGAST Daten/KGASTxls\n"
     ]
    }
   ],
   "source": [
    "path = ['C:/Users/Gérard/Dropbox/KGAST Daten/KGASTxls']\n",
    "for i in path:\n",
    "    try:\n",
    "        dateiliste = os.listdir(i)\n",
    "        pfad = i\n",
    "        print('Erfolg mit: ', pfad)\n",
    "    except:\n",
    "        pass\n",
    "\n",
    "# create list of all available files\n",
    "xlss = [pfad + '/' + i for i in dateiliste if i[:5] == 'KGAST']\n",
    "\n",
    "# read all available downloaded files\n",
    "xls_list = []\n",
    "for xls in xlss:\n",
    "    df = ExcelFile(xls)\n",
    "    xls_list.append(df.parse()[['MITGLIEDER', 'KURZ', 'VALOR', 'ANLAGEGRUPPE',\n",
    "                      'AUSGABEPREIS', 'RUECKNAHMEPREIS', 'AUFGEL_ERTRAG',\n",
    "                      'ABSCHLUSSTAG', 'VALUTA', 'AENDERUNGSDAT']])"
   ]
  },
  {
   "cell_type": "code",
   "execution_count": 169,
   "metadata": {
    "collapsed": false
   },
   "outputs": [],
   "source": [
    "# create DataFrame, drop duplicates and change columns to lowercase\n",
    "kurse = concat(xls_list).drop_duplicates()\n",
    "kurse.columns = [i.lower() for i in kurse.columns]\n",
    "\n",
    "def convert_to_float(zahl):\n",
    "    ''' convert string to float else return None '''\n",
    "    if isinstance(zahl, str):\n",
    "        _zahl = zahl.replace(\"'\",\"\")\n",
    "    else:\n",
    "        _zahl = zahl\n",
    "    try:\n",
    "        return(float(_zahl))\n",
    "    except ValueError:\n",
    "        return None\n",
    "\n",
    "def convert_to_datetime(datum):\n",
    "    ''' convert string date to datetime '''\n",
    "    try:\n",
    "        return datetime.strptime(datum, '%Y-%m-%d')\n",
    "        #return datetime(int(datum[:4]), int(datum[5:7]), int(datum[8:10]), 0, 0, 0, 0)\n",
    "    except TypeError:\n",
    "        return None #datetime(1900, 1, 1) # None\n",
    "\n",
    "# convert to float\n",
    "kurse.ausgabepreis = kurse.ausgabepreis.map(convert_to_float)\n",
    "kurse.ruecknahmepreis = kurse.ruecknahmepreis.map(convert_to_float)\n",
    "kurse.aufgel_ertrag = kurse.aufgel_ertrag.map(convert_to_float)\n",
    "\n",
    "# convert to datetime format\n",
    "kurse['abschlusstag'] = kurse.abschlusstag.map(convert_to_datetime)\n",
    "kurse['valuta'] = kurse.valuta.map(convert_to_datetime)\n",
    "kurse['aenderungsdat'] = kurse.aenderungsdat.map(convert_to_datetime)\n",
    "# clean valor and convert to int\n",
    "kurse.valor = kurse.valor.map(lambda x: int(str(x).replace(' ','')))"
   ]
  },
  {
   "cell_type": "code",
   "execution_count": 173,
   "metadata": {
    "collapsed": false
   },
   "outputs": [],
   "source": [
    "# delete Anlagestiftungen with few occurrences\n",
    "few = 10\n",
    "kurse_valor = DataFrame(kurse.groupby(by='valor').count())\n",
    "valoren_del = kurse_valor[kurse_valor.mitglieder < few].index.tolist()\n",
    "kurse3 = kurse[kurse.valor.map(lambda x: x not in valoren_del)]"
   ]
  },
  {
   "cell_type": "code",
   "execution_count": 174,
   "metadata": {
    "collapsed": false
   },
   "outputs": [
    {
     "name": "stdout",
     "output_type": "stream",
     "text": [
      "<class 'pandas.core.frame.DataFrame'>\n",
      "Int64Index: 17608 entries, 0 to 433\n",
      "Data columns (total 10 columns):\n",
      "mitglieder         17608 non-null object\n",
      "kurz               17608 non-null object\n",
      "valor              17608 non-null int64\n",
      "anlagegruppe       17608 non-null object\n",
      "ausgabepreis       17471 non-null float64\n",
      "ruecknahmepreis    17590 non-null float64\n",
      "aufgel_ertrag      15485 non-null float64\n",
      "abschlusstag       17606 non-null object\n",
      "valuta             15923 non-null object\n",
      "aenderungsdat      17606 non-null datetime64[ns]\n",
      "dtypes: datetime64[ns](1), float64(3), int64(1), object(5)\n",
      "memory usage: 1.5+ MB\n"
     ]
    }
   ],
   "source": [
    "kurse3.info()"
   ]
  },
  {
   "cell_type": "code",
   "execution_count": 172,
   "metadata": {
    "collapsed": false
   },
   "outputs": [
    {
     "name": "stdout",
     "output_type": "stream",
     "text": [
      "<class 'pandas.core.frame.DataFrame'>\n",
      "Int64Index: 17796 entries, 0 to 433\n",
      "Data columns (total 10 columns):\n",
      "mitglieder         17796 non-null object\n",
      "kurz               17796 non-null object\n",
      "valor              17796 non-null int64\n",
      "anlagegruppe       17796 non-null object\n",
      "ausgabepreis       17649 non-null float64\n",
      "ruecknahmepreis    17766 non-null float64\n",
      "aufgel_ertrag      15661 non-null float64\n",
      "abschlusstag       17787 non-null object\n",
      "valuta             16096 non-null object\n",
      "aenderungsdat      17784 non-null datetime64[ns]\n",
      "dtypes: datetime64[ns](1), float64(3), int64(1), object(5)\n",
      "memory usage: 1.5+ MB\n"
     ]
    }
   ],
   "source": [
    "kurse."
   ]
  },
  {
   "cell_type": "code",
   "execution_count": null,
   "metadata": {
    "collapsed": false
   },
   "outputs": [],
   "source": [
    "valoren_liste = k.valor.drop_duplicates()\n",
    "valor = valoren_liste[12]"
   ]
  },
  {
   "cell_type": "code",
   "execution_count": null,
   "metadata": {
    "collapsed": true
   },
   "outputs": [],
   "source": []
  }
 ],
 "metadata": {
  "anaconda-cloud": {},
  "kernelspec": {
   "display_name": "Python 3",
   "language": "python",
   "name": "python3"
  },
  "language_info": {
   "codemirror_mode": {
    "name": "ipython",
    "version": 3
   },
   "file_extension": ".py",
   "mimetype": "text/x-python",
   "name": "python",
   "nbconvert_exporter": "python",
   "pygments_lexer": "ipython3",
   "version": "3.5.1"
  }
 },
 "nbformat": 4,
 "nbformat_minor": 0
}
