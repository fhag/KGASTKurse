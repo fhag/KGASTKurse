{
 "cells": [
  {
   "cell_type": "markdown",
   "metadata": {},
   "source": [
    "### get csv from SIX page"
   ]
  },
  {
   "cell_type": "code",
   "execution_count": 77,
   "metadata": {
    "collapsed": false
   },
   "outputs": [],
   "source": [
    "import urllib.request as request\n",
    "import time\n",
    "import requests\n",
    "from urllib.parse import urlencode\n",
    "from pprint import pprint\n",
    "\n",
    "getcsvlink = 'https://www.six-swiss-exchange.com/indices/info_market_data_download.csv'"
   ]
  },
  {
   "cell_type": "code",
   "execution_count": 106,
   "metadata": {
    "collapsed": true
   },
   "outputs": [],
   "source": [
    "# historische Werte des SPI TR\n",
    "data = {'id' : 'CH0009987501CHF9', 'domain' : '107', 'actionSUBMIT.x' : '9', 'actionSUBMIT.y' : '6'}\n",
    "# Intraday Werte des SPI TR\n",
    "data = {'id' : 'CH0009987501CHF9', 'domain' : '0', 'actionSUBMIT.x' : '8', 'actionSUBMIT.y' : '6'}\n",
    "# UBS ETF hist Kurse\n",
    "data = {'id' : 'CH0131872431CHF4', 'domain' : '107', 'actionSUBMIT.x' : '5', 'actionSUBMIT.y' : '4'}\n",
    "# UBS ETF intraday\n",
    "data = {'id' : 'CH0131872431CHF4', 'domain' : '0', 'actionSUBMIT.x' : '10', 'actionSUBMIT.y' : '11'}\n",
    "data = {'id' : 'CH0131872431CHF4', 'domain' : '0'}\n"
   ]
  },
  {
   "cell_type": "code",
   "execution_count": 107,
   "metadata": {
    "collapsed": false
   },
   "outputs": [
    {
     "name": "stdout",
     "output_type": "stream",
     "text": [
      "https://www.six-swiss-exchange.com/not_found.html\n"
     ]
    }
   ],
   "source": [
    "fname = 'SIXcsv/SIX'+time.strftime('%Y-%m-%d--%H%M%S')+'.csv'\n",
    "req = requests.post(getcsvlink, data)\n",
    "\n",
    "with open(fname, 'wb') as file:\n",
    "    file.write(req.content)\n",
    "    print(req.url)"
   ]
  },
  {
   "cell_type": "code",
   "execution_count": 94,
   "metadata": {
    "collapsed": false
   },
   "outputs": [
    {
     "data": {
      "text/plain": [
       "['__attrs__',\n",
       " '__bool__',\n",
       " '__class__',\n",
       " '__delattr__',\n",
       " '__dict__',\n",
       " '__dir__',\n",
       " '__doc__',\n",
       " '__eq__',\n",
       " '__format__',\n",
       " '__ge__',\n",
       " '__getattribute__',\n",
       " '__getstate__',\n",
       " '__gt__',\n",
       " '__hash__',\n",
       " '__init__',\n",
       " '__iter__',\n",
       " '__le__',\n",
       " '__lt__',\n",
       " '__module__',\n",
       " '__ne__',\n",
       " '__new__',\n",
       " '__nonzero__',\n",
       " '__reduce__',\n",
       " '__reduce_ex__',\n",
       " '__repr__',\n",
       " '__setattr__',\n",
       " '__setstate__',\n",
       " '__sizeof__',\n",
       " '__str__',\n",
       " '__subclasshook__',\n",
       " '__weakref__',\n",
       " '_content',\n",
       " '_content_consumed',\n",
       " 'apparent_encoding',\n",
       " 'close',\n",
       " 'connection',\n",
       " 'content',\n",
       " 'cookies',\n",
       " 'elapsed',\n",
       " 'encoding',\n",
       " 'headers',\n",
       " 'history',\n",
       " 'is_permanent_redirect',\n",
       " 'is_redirect',\n",
       " 'iter_content',\n",
       " 'iter_lines',\n",
       " 'json',\n",
       " 'links',\n",
       " 'ok',\n",
       " 'raise_for_status',\n",
       " 'raw',\n",
       " 'reason',\n",
       " 'request',\n",
       " 'status_code',\n",
       " 'text',\n",
       " 'url']"
      ]
     },
     "execution_count": 94,
     "metadata": {},
     "output_type": "execute_result"
    }
   ],
   "source": [
    "dir(req)"
   ]
  },
  {
   "cell_type": "code",
   "execution_count": 105,
   "metadata": {
    "collapsed": false
   },
   "outputs": [
    {
     "data": {
      "text/plain": [
       "<RequestsCookieJar[Cookie(version=0, name='BALANCERID', value='b.mpzhlitf421828', port=None, port_specified=False, domain='www.six-swiss-exchange.com', domain_specified=False, domain_initial_dot=False, path='/', path_specified=True, secure=False, expires=1476687954, discard=False, comment=None, comment_url=None, rest={}, rfc2109=True)]>"
      ]
     },
     "execution_count": 105,
     "metadata": {},
     "output_type": "execute_result"
    }
   ],
   "source": [
    "req.cookies"
   ]
  },
  {
   "cell_type": "code",
   "execution_count": null,
   "metadata": {
    "collapsed": true
   },
   "outputs": [],
   "source": []
  }
 ],
 "metadata": {
  "anaconda-cloud": {},
  "kernelspec": {
   "display_name": "Python [default]",
   "language": "python",
   "name": "python3"
  },
  "language_info": {
   "codemirror_mode": {
    "name": "ipython",
    "version": 3
   },
   "file_extension": ".py",
   "mimetype": "text/x-python",
   "name": "python",
   "nbconvert_exporter": "python",
   "pygments_lexer": "ipython3",
   "version": "3.5.2"
  }
 },
 "nbformat": 4,
 "nbformat_minor": 1
}
