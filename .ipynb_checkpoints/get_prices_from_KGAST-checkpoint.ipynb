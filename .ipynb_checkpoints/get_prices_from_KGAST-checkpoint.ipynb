{
 "cells": [
  {
   "cell_type": "markdown",
   "metadata": {},
   "source": [
    "### get daily xls from KGAST site - needs to be run every day"
   ]
  },
  {
   "cell_type": "code",
   "execution_count": 33,
   "metadata": {
    "collapsed": true
   },
   "outputs": [],
   "source": [
    "import urllib.request as request\n",
    "import time\n",
    "\n",
    "getxls = 'http://www.kgast.ch/dynasite.cfm?cmd=cprodukt_produkt_excel_export&skipfurl=1'\n",
    "\n",
    "# get first link for today's xls\n",
    "with request.urlopen(getxls) as response:\n",
    "   getxlslink = response.read().decode()\n",
    "\n",
    "#create filename\n",
    "fname = 'KGASTxls/KGAST'+time.strftime('%Y-%m-%d--%H%M%S')+'.xls'\n",
    "\n",
    "# save today's xls as fname\n",
    "fname, headers = request.urlretrieve(getxlslink, filename=fname)\n",
    "# show result and filename\n",
    "print(headers, fname)"
   ]
  },
  {
   "cell_type": "code",
   "execution_count": null,
   "metadata": {
    "collapsed": true
   },
   "outputs": [],
   "source": []
  }
 ],
 "metadata": {
  "anaconda-cloud": {},
  "kernelspec": {
   "display_name": "Python [default]",
   "language": "python",
   "name": "python3"
  },
  "language_info": {
   "codemirror_mode": {
    "name": "ipython",
    "version": 3
   },
   "file_extension": ".py",
   "mimetype": "text/x-python",
   "name": "python",
   "nbconvert_exporter": "python",
   "pygments_lexer": "ipython3",
   "version": "3.5.2"
  }
 },
 "nbformat": 4,
 "nbformat_minor": 0
}
