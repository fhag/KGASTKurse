{
 "cells": [
  {
   "cell_type": "markdown",
   "metadata": {},
   "source": [
    "### get csv from SIX page for indices and funds (ETFs)"
   ]
  },
  {
   "cell_type": "code",
   "execution_count": 1,
   "metadata": {
    "collapsed": false
   },
   "outputs": [
    {
     "name": "stdout",
     "output_type": "stream",
     "text": [
      "SIXcsv/SXitd_CHSPI_2017-01-14_154800.csv text/csv;charset=iso-8859-1\n",
      "SIXcsv/SXhst_CHSPI_2017-01-14_154800.csv text/csv;charset=iso-8859-1\n",
      "SIXcsv/SXitd_SPICHA_2017-01-14_154800.csv text/csv;charset=iso-8859-1\n",
      "SIXcsv/SXhst_SPICHA_2017-01-14_154800.csv text/csv;charset=iso-8859-1\n",
      "SIXcsv/SXitd_SPI_2017-01-14_154800.csv text/csv;charset=iso-8859-1\n",
      "SIXcsv/SXhst_SPI_2017-01-14_154800.csv text/csv;charset=iso-8859-1\n"
     ]
    }
   ],
   "source": [
    "# coding: utf-8\n",
    "\n",
    "# ### get csv from SIX page for indices and funds (ETFs)\n",
    "\n",
    "# In[1]:\n",
    "\n",
    "import urllib.request as request\n",
    "import time\n",
    "import requests\n",
    "from urllib.parse import urlencode\n",
    "from pprint import pprint\n",
    "\n",
    "# url_for_indices = 'https://www.six-swiss-exchange.com/indices/info_market_data_download.csv'\n",
    "# url_for_funds = 'https://www.six-swiss-exchange.com/funds/info_market_data_download.csv'\n",
    "\n",
    "fundliste = {'SPI TR' : ('SPI', 'indices', 'CH0009987501CHF9'),\n",
    "            'iShares Core SPI (CH) CHSPI' : ('CHSPI', 'funds', 'CH0237935652CHF4'),\n",
    "            'UBS ETF SPI (CHF) A SPICHA' : ('SPICHA', 'funds', 'CH0131872431CHF4'),\n",
    "            }\n",
    "kursTyps = {'itd' : '0', # intraday Values\n",
    "          'hst' : '107'} # historical daily Values (five month)\n",
    "\n",
    "\n",
    "codelist = []\n",
    "'''\n",
    "prepare list with all needed codes\n",
    "    name = Valorensymbol\n",
    "    urlcode = different url for 'funds' or 'indices'\n",
    "    identifier = code for specific item with ISIN\n",
    "    kurstyp = 0 for intraday and 107 for historical values\n",
    "    domain = domain code to be passed as data\n",
    "'''# prepare list with all needed codes\n",
    "for name, urlcode, identifier in fundliste.values():\n",
    "    #print(name, urlcode, identifier)\n",
    "    for kurstyp, domain in kursTyps.items():\n",
    "        fname = 'SIXcsv/SX'+kurstyp+'_'+name+'_'+time.strftime('%Y-%m-%d_%H%M%S')+'.csv'\n",
    "        url = 'https://www.six-swiss-exchange.com/'+urlcode+'/info_market_data_download.csv'\n",
    "        codelist.append((fname,identifier, domain, url))\n",
    "\n",
    "\n",
    "for fname, ident, domain, url in codelist:\n",
    "    data = urlencode({'id' : ident, 'domain' : domain, \n",
    "                      'actionSUBMIT.x' : '10', 'actionSUBMIT.y' : '11'}).encode('ascii')\n",
    "    # save downloaded data as fname.csv\n",
    "    fname, headers = request.urlretrieve(url, filename=fname, data=data)\n",
    "    print(fname, headers['Content-Type']) # correct Content-Type is 'text/csv'    "
   ]
  },
  {
   "cell_type": "code",
   "execution_count": null,
   "metadata": {
    "collapsed": true
   },
   "outputs": [],
   "source": []
  }
 ],
 "metadata": {
  "anaconda-cloud": {},
  "kernelspec": {
   "display_name": "Python [default]",
   "language": "python",
   "name": "python3"
  },
  "language_info": {
   "codemirror_mode": {
    "name": "ipython",
    "version": 3
   },
   "file_extension": ".py",
   "mimetype": "text/x-python",
   "name": "python",
   "nbconvert_exporter": "python",
   "pygments_lexer": "ipython3",
   "version": "3.5.2"
  }
 },
 "nbformat": 4,
 "nbformat_minor": 1
}
